{
 "cells": [
  {
   "cell_type": "code",
   "execution_count": 1,
   "id": "6a16518f-043f-4836-b6ee-1a4189449478",
   "metadata": {},
   "outputs": [
    {
     "name": "stdout",
     "output_type": "stream",
     "text": [
      "0     4\n",
      "1     8\n",
      "2    15\n",
      "3    16\n",
      "4    23\n",
      "5    42\n",
      "dtype: int64\n"
     ]
    }
   ],
   "source": [
    "# Q1. Create a Pandas Series that contains the following data: 4, 8, 15, 16, 23, and 42. Then, print the series.\n",
    "# Solution :-\n",
    "\n",
    "import pandas as pd\n",
    "list=[4,8,15,16,23,42]\n",
    "ser=pd.Series(list)\n",
    "print(ser)\n"
   ]
  },
  {
   "cell_type": "code",
   "execution_count": 2,
   "id": "4165d306-adf3-417d-a38e-79450b3cba17",
   "metadata": {},
   "outputs": [],
   "source": [
    "#Q2. Create a variable of list type containing 10 elements in it, and apply pandas.Series function on the variable print it.\n",
    "#sol:-\n",
    "l=[1,2,3,4,5,6,7,8,9,10]\n",
    "ser=pd.Series(l)\n"
   ]
  },
  {
   "cell_type": "code",
   "execution_count": 3,
   "id": "0b21dcef-e54d-4b9e-a65d-f8cebf8da722",
   "metadata": {},
   "outputs": [
    {
     "data": {
      "text/plain": [
       "[1, 2, 3, 4, 5, 6, 7, 8, 9, 10]"
      ]
     },
     "execution_count": 3,
     "metadata": {},
     "output_type": "execute_result"
    }
   ],
   "source": [
    "l"
   ]
  },
  {
   "cell_type": "code",
   "execution_count": 4,
   "id": "a2ec575f-5394-4f18-872c-cdd39c5b9d63",
   "metadata": {},
   "outputs": [],
   "source": [
    "df1=pd.read_excel('Sample.xlsx')"
   ]
  },
  {
   "cell_type": "code",
   "execution_count": 5,
   "id": "852655de-932f-4831-a8d4-868f20d26e64",
   "metadata": {},
   "outputs": [
    {
     "data": {
      "text/html": [
       "<div>\n",
       "<style scoped>\n",
       "    .dataframe tbody tr th:only-of-type {\n",
       "        vertical-align: middle;\n",
       "    }\n",
       "\n",
       "    .dataframe tbody tr th {\n",
       "        vertical-align: top;\n",
       "    }\n",
       "\n",
       "    .dataframe thead th {\n",
       "        text-align: right;\n",
       "    }\n",
       "</style>\n",
       "<table border=\"1\" class=\"dataframe\">\n",
       "  <thead>\n",
       "    <tr style=\"text-align: right;\">\n",
       "      <th></th>\n",
       "      <th>Name</th>\n",
       "      <th>Age</th>\n",
       "      <th>Gender</th>\n",
       "    </tr>\n",
       "  </thead>\n",
       "  <tbody>\n",
       "    <tr>\n",
       "      <th>0</th>\n",
       "      <td>Alice</td>\n",
       "      <td>25</td>\n",
       "      <td>Female</td>\n",
       "    </tr>\n",
       "    <tr>\n",
       "      <th>1</th>\n",
       "      <td>Bob</td>\n",
       "      <td>30</td>\n",
       "      <td>Male</td>\n",
       "    </tr>\n",
       "    <tr>\n",
       "      <th>2</th>\n",
       "      <td>Claire</td>\n",
       "      <td>27</td>\n",
       "      <td>Female</td>\n",
       "    </tr>\n",
       "  </tbody>\n",
       "</table>\n",
       "</div>"
      ],
      "text/plain": [
       "     Name  Age  Gender\n",
       "0   Alice   25  Female\n",
       "1     Bob   30    Male\n",
       "2  Claire   27  Female"
      ]
     },
     "execution_count": 5,
     "metadata": {},
     "output_type": "execute_result"
    }
   ],
   "source": [
    "df1"
   ]
  },
  {
   "cell_type": "code",
   "execution_count": 6,
   "id": "11ce06f4-2d6f-4a27-a4ec-48ac9541ef2a",
   "metadata": {},
   "outputs": [
    {
     "data": {
      "text/plain": [
       "pandas.core.frame.DataFrame"
      ]
     },
     "execution_count": 6,
     "metadata": {},
     "output_type": "execute_result"
    }
   ],
   "source": [
    "type(df1)"
   ]
  },
  {
   "cell_type": "code",
   "execution_count": 7,
   "id": "9d69133c-cb43-4a09-baff-87b54e882bbc",
   "metadata": {},
   "outputs": [
    {
     "name": "stdout",
     "output_type": "stream",
     "text": [
      "Mon      22\n",
      "Tues     23\n",
      "Wed      23\n",
      "Thurs    24\n",
      "Fri      23\n",
      "Sat      22\n",
      "Sun      21\n",
      "Name: series_from_dict, dtype: int64\n"
     ]
    }
   ],
   "source": [
    "#Q4. What is ‘DataFrame’ in pandas and how is it different from pandas.series? Explain with an example.\n",
    "\n",
    "'''\n",
    "pandas series is one dimensional and Homogenous – Series elements must be of the same data type.\t\n",
    "Size-immutable – Once created, the size of a Series object cannot be changed \n",
    "\n",
    "pandas data frame is two dimmensional and \tHeterogenous – DataFrame elements can have different data types.\n",
    "and Size-mutable – Elements can be dropped or added in an existing DataFrame.'''\n",
    "\n",
    "#pandas.Series using dictionary\n",
    "data = {'Mon': 22, 'Tues': 23, 'Wed': 23, 'Thurs': 24, 'Fri': 23, 'Sat': 22, 'Sun': 21}\n",
    "series = pd.Series(data=data, name='series_from_dict')\n",
    "print(series)\n"
   ]
  },
  {
   "cell_type": "code",
   "execution_count": 15,
   "id": "9c664e7a-39b5-460c-bef8-d0276e4a316a",
   "metadata": {},
   "outputs": [
    {
     "name": "stdout",
     "output_type": "stream",
     "text": [
      "<class 'pandas.core.frame.DataFrame'>\n",
      "RangeIndex: 3 entries, 0 to 2\n",
      "Data columns (total 3 columns):\n",
      " #   Column  Non-Null Count  Dtype \n",
      "---  ------  --------------  ----- \n",
      " 0   Name    3 non-null      object\n",
      " 1   Age     3 non-null      int64 \n",
      " 2   Gender  3 non-null      object\n",
      "dtypes: int64(1), object(2)\n",
      "memory usage: 200.0+ bytes\n"
     ]
    }
   ],
   "source": [
    "#Q5. What are some common functions you can use to manipulate data in a Pandas DataFrame? Can\n",
    "#you give an example of when you might use one of these functions?\n",
    "\n",
    "'''solution :-\n",
    "1 .\n",
    "Read Data\n",
    "We can read data in pandas data frame as read_csv(). Two most used data read formats are csv and excel. \n",
    "If we are reading data in excel format, we can also give sheet names as follows. There are other less used options of other file types too.\n",
    "\n",
    "'''\n",
    "df2=pd.read_excel('Sample.xlsx')\n",
    "\n",
    "\n",
    "'''\n",
    "2. Head and Tail\n",
    "To see the data frame we can use df.head(). Head returns the first rows, if no input is given it will always show above 5 rows.\n",
    "In contrast to see below rows, we can use df.tail().\n",
    "'''\n",
    "df2.head(3)\n",
    "df2.tail(3)\n",
    "\n",
    "\n",
    "'''3. Shape, Size and Info\n",
    "\n",
    "Two most basic functions after reading data is to know the number of rows and columns, and to know the datatype of variables. \n",
    "We can use df.shape, it gives a total number of rows and then columns. df.size() returns the number of rows times number of columns in the data frame. \n",
    "We can also use df.info(), from that we get different information such as rows from RangeIndex, Data columns and then data type of each column.\n",
    "It also includes the information of non-null counts.\n",
    "'''\n",
    "df2.info()\n"
   ]
  },
  {
   "cell_type": "code",
   "execution_count": 16,
   "id": "fea8f8fd-f84a-41f3-bae8-9482c5f762f2",
   "metadata": {},
   "outputs": [
    {
     "data": {
      "text/plain": [
       "'Q6. Which of the following is mutable in nature Series, DataFrame, Panel?\\nSolution :- All Pandas data structures are value mutable (can be changed) and except Series all are size mutable.\\nSeries is size immutable. Note − DataFrame is widely used and one of the most important data structures. Panel is used much less.\\n'"
      ]
     },
     "execution_count": 16,
     "metadata": {},
     "output_type": "execute_result"
    }
   ],
   "source": [
    "'''Q6. Which of the following is mutable in nature Series, DataFrame, Panel?\n",
    "Solution :- All Pandas data structures are value mutable (can be changed) and except Series all are size mutable.\n",
    "Series is size immutable. Note − DataFrame is widely used and one of the most important data structures. Panel is used much less.\n",
    "'''"
   ]
  },
  {
   "cell_type": "code",
   "execution_count": null,
   "id": "61c58558-2820-489c-be9b-6b873b49f36f",
   "metadata": {},
   "outputs": [],
   "source": []
  }
 ],
 "metadata": {
  "kernelspec": {
   "display_name": "Python 3 (ipykernel)",
   "language": "python",
   "name": "python3"
  },
  "language_info": {
   "codemirror_mode": {
    "name": "ipython",
    "version": 3
   },
   "file_extension": ".py",
   "mimetype": "text/x-python",
   "name": "python",
   "nbconvert_exporter": "python",
   "pygments_lexer": "ipython3",
   "version": "3.10.8"
  }
 },
 "nbformat": 4,
 "nbformat_minor": 5
}
